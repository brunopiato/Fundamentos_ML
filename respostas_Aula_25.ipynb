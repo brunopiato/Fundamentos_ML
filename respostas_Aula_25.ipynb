{
 "cells": [
  {
   "cell_type": "markdown",
   "id": "b614a3fb-3f91-4f61-9d42-5f23277ab0d7",
   "metadata": {
    "tags": []
   },
   "source": [
    "#  Exercicios"
   ]
  },
  {
   "cell_type": "code",
   "execution_count": 1,
   "id": "2353234a-632c-4e2c-b302-a42b0d63c5a8",
   "metadata": {
    "tags": []
   },
   "outputs": [],
   "source": [
    "import pandas as pd\n",
    "import numpy as np\n",
    "from sklearn.linear_model import LinearRegression\n",
    "from sklearn import metrics as mt\n",
    "import seaborn as sns\n",
    "import matplotlib.pyplot as plt"
   ]
  },
  {
   "cell_type": "code",
   "execution_count": 2,
   "id": "9197ed8c-3c2b-48bc-b0f7-51d2c0dac4c0",
   "metadata": {
    "tags": []
   },
   "outputs": [],
   "source": [
    "plt.rcParams[\"figure.figsize\"] = (20,10)\n",
    "pd.set_option('display.float_format', lambda x: '%.2f' % x)"
   ]
  },
  {
   "cell_type": "code",
   "execution_count": 3,
   "id": "04665c34-7098-4e18-bafb-45570d20c575",
   "metadata": {},
   "outputs": [],
   "source": [
    "data = pd.read_csv( 'dataset/train.csv' )"
   ]
  },
  {
   "cell_type": "markdown",
   "id": "6f8b17cc-6d0a-44f7-9879-8edcac842d94",
   "metadata": {
    "tags": []
   },
   "source": [
    "## 1. Rafaça o código de treinamento da aula 19: “Linear Regression - Prática” no seu computador usando o Jupyter Notebook ou o Google Colabs e compute o R2, o MSE e o RMSE"
   ]
  },
  {
   "cell_type": "code",
   "execution_count": 4,
   "id": "de150bdf-de69-4059-934a-ffd5c687bdfa",
   "metadata": {
    "tags": []
   },
   "outputs": [
    {
     "data": {
      "text/html": [
       "<div>\n",
       "<style scoped>\n",
       "    .dataframe tbody tr th:only-of-type {\n",
       "        vertical-align: middle;\n",
       "    }\n",
       "\n",
       "    .dataframe tbody tr th {\n",
       "        vertical-align: top;\n",
       "    }\n",
       "\n",
       "    .dataframe thead th {\n",
       "        text-align: right;\n",
       "    }\n",
       "</style>\n",
       "<table border=\"1\" class=\"dataframe\">\n",
       "  <thead>\n",
       "    <tr style=\"text-align: right;\">\n",
       "      <th></th>\n",
       "      <th>id_cliente</th>\n",
       "      <th>saldo_atual</th>\n",
       "      <th>predicted</th>\n",
       "    </tr>\n",
       "  </thead>\n",
       "  <tbody>\n",
       "    <tr>\n",
       "      <th>0</th>\n",
       "      <td>1767</td>\n",
       "      <td>278.17</td>\n",
       "      <td>346.67</td>\n",
       "    </tr>\n",
       "    <tr>\n",
       "      <th>1</th>\n",
       "      <td>11920</td>\n",
       "      <td>268.87</td>\n",
       "      <td>367.84</td>\n",
       "    </tr>\n",
       "    <tr>\n",
       "      <th>2</th>\n",
       "      <td>8910</td>\n",
       "      <td>446.64</td>\n",
       "      <td>431.47</td>\n",
       "    </tr>\n",
       "    <tr>\n",
       "      <th>3</th>\n",
       "      <td>4964</td>\n",
       "      <td>321.14</td>\n",
       "      <td>445.51</td>\n",
       "    </tr>\n",
       "    <tr>\n",
       "      <th>4</th>\n",
       "      <td>10100</td>\n",
       "      <td>428.72</td>\n",
       "      <td>378.27</td>\n",
       "    </tr>\n",
       "  </tbody>\n",
       "</table>\n",
       "</div>"
      ],
      "text/plain": [
       "   id_cliente  saldo_atual  predicted\n",
       "0        1767       278.17     346.67\n",
       "1       11920       268.87     367.84\n",
       "2        8910       446.64     431.47\n",
       "3        4964       321.14     445.51\n",
       "4       10100       428.72     378.27"
      ]
     },
     "execution_count": 4,
     "metadata": {},
     "output_type": "execute_result"
    }
   ],
   "source": [
    "# Load dataset\n",
    "df = data.copy()\n",
    "# Seleção de Features\n",
    "# Características\n",
    "features = ['idade', 'divida_atual', 'renda_anual', 'valor_em_investimentos', \n",
    "            'taxa_utilizacao_credito', 'num_emprestimos', 'num_contas_bancarias', 'num_cartoes_credito', \n",
    "            'dias_atraso_dt_venc', 'num_pgtos_atrasados', 'num_consultas_credito', 'taxa_juros']\n",
    "\n",
    "# Variável alvo\n",
    "label = ['saldo_atual']\n",
    "\n",
    "# Dados de treinamento e teste\n",
    "x_train = df.loc[:, features]\n",
    "y_train = df.loc[:, label]\n",
    "\n",
    "# Treinamento do algoritmo\n",
    "lr_model = LinearRegression()\n",
    "lr_model.fit( x_train, y_train )\n",
    "\n",
    "# Previsão do algoritmo\n",
    "y_pred = lr_model.predict( x_train )\n",
    "\n",
    "# Resultado final\n",
    "df1 = df.loc[:, ['id_cliente', 'saldo_atual']]\n",
    "df1['predicted'] = y_pred\n",
    "\n",
    "df1.head()"
   ]
  },
  {
   "cell_type": "markdown",
   "id": "7460b151-5ee3-4c6a-b51a-d3606435b6eb",
   "metadata": {
    "tags": []
   },
   "source": [
    "#### Função criada para retornar as métricas"
   ]
  },
  {
   "cell_type": "code",
   "execution_count": 5,
   "id": "4f240d63-63c5-493f-b298-16b02334bd76",
   "metadata": {
    "tags": []
   },
   "outputs": [],
   "source": [
    "def regression_metrics(y_train, y_pred, outlier):\n",
    "    r2 = mt.r2_score(y_train, y_pred)\n",
    "    mse = mt.mean_squared_error(y_train, y_pred)\n",
    "    rmse = np.sqrt(mse)\n",
    "    \n",
    "    metrics = pd.DataFrame({'outliers': [outlier], 'r2': [r2], 'mse': [mse], 'rmse': [rmse]})\n",
    "        \n",
    "    return metrics"
   ]
  },
  {
   "cell_type": "code",
   "execution_count": 6,
   "id": "ef2912bb-2b4e-44ce-9818-abc4eeb2fee2",
   "metadata": {
    "tags": []
   },
   "outputs": [
    {
     "data": {
      "text/html": [
       "<div>\n",
       "<style scoped>\n",
       "    .dataframe tbody tr th:only-of-type {\n",
       "        vertical-align: middle;\n",
       "    }\n",
       "\n",
       "    .dataframe tbody tr th {\n",
       "        vertical-align: top;\n",
       "    }\n",
       "\n",
       "    .dataframe thead th {\n",
       "        text-align: right;\n",
       "    }\n",
       "</style>\n",
       "<table border=\"1\" class=\"dataframe\">\n",
       "  <thead>\n",
       "    <tr style=\"text-align: right;\">\n",
       "      <th></th>\n",
       "      <th>outliers</th>\n",
       "      <th>r2</th>\n",
       "      <th>mse</th>\n",
       "      <th>rmse</th>\n",
       "    </tr>\n",
       "  </thead>\n",
       "  <tbody>\n",
       "    <tr>\n",
       "      <th>0</th>\n",
       "      <td>0</td>\n",
       "      <td>0.17</td>\n",
       "      <td>39370.27</td>\n",
       "      <td>198.42</td>\n",
       "    </tr>\n",
       "  </tbody>\n",
       "</table>\n",
       "</div>"
      ],
      "text/plain": [
       "   outliers   r2      mse   rmse\n",
       "0         0 0.17 39370.27 198.42"
      ]
     },
     "execution_count": 6,
     "metadata": {},
     "output_type": "execute_result"
    }
   ],
   "source": [
    "regression_metrics(y_train, y_pred, 0)"
   ]
  },
  {
   "cell_type": "markdown",
   "id": "4d2fabae-6169-4f77-b210-33b6fd9d0d82",
   "metadata": {
    "tags": []
   },
   "source": [
    "## 2. Qual o problema principal de usar a métrica MSE? Escreve um exemplo hipotético, no qual o problema acontece."
   ]
  },
  {
   "cell_type": "markdown",
   "id": "14e68fd9-a64e-4545-98a4-473b28003fc5",
   "metadata": {},
   "source": [
    "### <span style='color:red'> - Esta pergunta é de cunho interpretativo de cada aluno. </span>"
   ]
  },
  {
   "cell_type": "markdown",
   "id": "144229a6-f58c-4f69-be0c-a7c4b4db6dbb",
   "metadata": {
    "tags": []
   },
   "source": [
    "## 3. Explique com um pequeno texto ilustrando o benefício de usar a métrica RMSE."
   ]
  },
  {
   "cell_type": "markdown",
   "id": "b7099555-6d37-4b49-9321-55c3bc780532",
   "metadata": {},
   "source": [
    "### <span style='color:red'> - Esta pergunta é de cunho interpretativo de cada aluno. </span>"
   ]
  },
  {
   "cell_type": "markdown",
   "id": "513e4067-b20b-4090-8c49-b03edc7b7adc",
   "metadata": {
    "tags": []
   },
   "source": [
    "## 4. Modifique 5% das linhas de algumas colunas, adicionando outliers e refaça as métricas de R2, MSE e RMSE."
   ]
  },
  {
   "cell_type": "code",
   "execution_count": 7,
   "id": "8d90dae4-6a47-4d18-93b2-417ca7dad7b0",
   "metadata": {
    "tags": []
   },
   "outputs": [],
   "source": [
    "percentual = 0.05\n",
    "features = ['idade', 'divida_atual', 'renda_anual']\n",
    "peso = 10"
   ]
  },
  {
   "cell_type": "code",
   "execution_count": 8,
   "id": "bd028cc2-c05a-4da4-8de3-ab15aeeb9689",
   "metadata": {},
   "outputs": [],
   "source": [
    "X_train2 = x_train.copy()"
   ]
  },
  {
   "cell_type": "code",
   "execution_count": 9,
   "id": "482eddb2-b513-408c-a594-b68ac08c7663",
   "metadata": {
    "tags": []
   },
   "outputs": [],
   "source": [
    "random_index = np.random.randint(1,X_train2.shape[0], int(X_train2.shape[0]*percentual))"
   ]
  },
  {
   "cell_type": "code",
   "execution_count": 10,
   "id": "9420ec87-c294-43a2-8b94-7aed71aa5f0e",
   "metadata": {},
   "outputs": [
    {
     "data": {
      "text/html": [
       "<div>\n",
       "<style scoped>\n",
       "    .dataframe tbody tr th:only-of-type {\n",
       "        vertical-align: middle;\n",
       "    }\n",
       "\n",
       "    .dataframe tbody tr th {\n",
       "        vertical-align: top;\n",
       "    }\n",
       "\n",
       "    .dataframe thead th {\n",
       "        text-align: right;\n",
       "    }\n",
       "</style>\n",
       "<table border=\"1\" class=\"dataframe\">\n",
       "  <thead>\n",
       "    <tr style=\"text-align: right;\">\n",
       "      <th></th>\n",
       "      <th>count</th>\n",
       "      <th>mean</th>\n",
       "      <th>std</th>\n",
       "      <th>min</th>\n",
       "      <th>25%</th>\n",
       "      <th>50%</th>\n",
       "      <th>75%</th>\n",
       "      <th>max</th>\n",
       "    </tr>\n",
       "  </thead>\n",
       "  <tbody>\n",
       "    <tr>\n",
       "      <th>idade</th>\n",
       "      <td>9500.00</td>\n",
       "      <td>126.00</td>\n",
       "      <td>685.00</td>\n",
       "      <td>18.00</td>\n",
       "      <td>28.00</td>\n",
       "      <td>38.00</td>\n",
       "      <td>47.00</td>\n",
       "      <td>8598.00</td>\n",
       "    </tr>\n",
       "    <tr>\n",
       "      <th>divida_atual</th>\n",
       "      <td>9500.00</td>\n",
       "      <td>1437.00</td>\n",
       "      <td>1156.00</td>\n",
       "      <td>0.00</td>\n",
       "      <td>574.00</td>\n",
       "      <td>1176.00</td>\n",
       "      <td>1963.00</td>\n",
       "      <td>4998.00</td>\n",
       "    </tr>\n",
       "    <tr>\n",
       "      <th>renda_anual</th>\n",
       "      <td>9500.00</td>\n",
       "      <td>195037.00</td>\n",
       "      <td>1454274.00</td>\n",
       "      <td>10474.00</td>\n",
       "      <td>26208.00</td>\n",
       "      <td>45991.00</td>\n",
       "      <td>80450.00</td>\n",
       "      <td>23279658.00</td>\n",
       "    </tr>\n",
       "  </tbody>\n",
       "</table>\n",
       "</div>"
      ],
      "text/plain": [
       "               count      mean        std      min      25%      50%      75%  \\\n",
       "idade        9500.00    126.00     685.00    18.00    28.00    38.00    47.00   \n",
       "divida_atual 9500.00   1437.00    1156.00     0.00   574.00  1176.00  1963.00   \n",
       "renda_anual  9500.00 195037.00 1454274.00 10474.00 26208.00 45991.00 80450.00   \n",
       "\n",
       "                     max  \n",
       "idade            8598.00  \n",
       "divida_atual     4998.00  \n",
       "renda_anual  23279658.00  "
      ]
     },
     "execution_count": 10,
     "metadata": {},
     "output_type": "execute_result"
    }
   ],
   "source": [
    "np.round(X_train2[features].describe().T)"
   ]
  },
  {
   "cell_type": "code",
   "execution_count": 11,
   "id": "c55b9124-6195-4ba2-b5ad-5c44650de736",
   "metadata": {
    "tags": []
   },
   "outputs": [],
   "source": [
    "X_train2.loc[random_index,features] = X_train2.loc[random_index,features]*peso"
   ]
  },
  {
   "cell_type": "code",
   "execution_count": 12,
   "id": "97aa784f-374a-4fc3-9be0-ad97142bda1c",
   "metadata": {
    "tags": []
   },
   "outputs": [
    {
     "data": {
      "text/html": [
       "<div>\n",
       "<style scoped>\n",
       "    .dataframe tbody tr th:only-of-type {\n",
       "        vertical-align: middle;\n",
       "    }\n",
       "\n",
       "    .dataframe tbody tr th {\n",
       "        vertical-align: top;\n",
       "    }\n",
       "\n",
       "    .dataframe thead th {\n",
       "        text-align: right;\n",
       "    }\n",
       "</style>\n",
       "<table border=\"1\" class=\"dataframe\">\n",
       "  <thead>\n",
       "    <tr style=\"text-align: right;\">\n",
       "      <th></th>\n",
       "      <th>count</th>\n",
       "      <th>mean</th>\n",
       "      <th>std</th>\n",
       "      <th>min</th>\n",
       "      <th>25%</th>\n",
       "      <th>50%</th>\n",
       "      <th>75%</th>\n",
       "      <th>max</th>\n",
       "    </tr>\n",
       "  </thead>\n",
       "  <tbody>\n",
       "    <tr>\n",
       "      <th>idade</th>\n",
       "      <td>9500.00</td>\n",
       "      <td>155.00</td>\n",
       "      <td>1039.00</td>\n",
       "      <td>18.00</td>\n",
       "      <td>29.00</td>\n",
       "      <td>39.00</td>\n",
       "      <td>49.00</td>\n",
       "      <td>59150.00</td>\n",
       "    </tr>\n",
       "    <tr>\n",
       "      <th>divida_atual</th>\n",
       "      <td>9500.00</td>\n",
       "      <td>2034.00</td>\n",
       "      <td>3745.00</td>\n",
       "      <td>0.00</td>\n",
       "      <td>606.00</td>\n",
       "      <td>1230.00</td>\n",
       "      <td>2202.00</td>\n",
       "      <td>49521.00</td>\n",
       "    </tr>\n",
       "    <tr>\n",
       "      <th>renda_anual</th>\n",
       "      <td>9500.00</td>\n",
       "      <td>266248.00</td>\n",
       "      <td>3146042.00</td>\n",
       "      <td>10474.00</td>\n",
       "      <td>26731.00</td>\n",
       "      <td>48554.00</td>\n",
       "      <td>89069.00</td>\n",
       "      <td>199778224.00</td>\n",
       "    </tr>\n",
       "  </tbody>\n",
       "</table>\n",
       "</div>"
      ],
      "text/plain": [
       "               count      mean        std      min      25%      50%      75%  \\\n",
       "idade        9500.00    155.00    1039.00    18.00    29.00    39.00    49.00   \n",
       "divida_atual 9500.00   2034.00    3745.00     0.00   606.00  1230.00  2202.00   \n",
       "renda_anual  9500.00 266248.00 3146042.00 10474.00 26731.00 48554.00 89069.00   \n",
       "\n",
       "                      max  \n",
       "idade            59150.00  \n",
       "divida_atual     49521.00  \n",
       "renda_anual  199778224.00  "
      ]
     },
     "execution_count": 12,
     "metadata": {},
     "output_type": "execute_result"
    }
   ],
   "source": [
    "np.round(X_train2[features].describe().T)"
   ]
  },
  {
   "cell_type": "markdown",
   "id": "3f0d7ed5-81d5-4e50-9c5b-e6c240721b32",
   "metadata": {
    "tags": []
   },
   "source": [
    "#### Função criada para gerar outliers"
   ]
  },
  {
   "cell_type": "code",
   "execution_count": 13,
   "id": "8da1ac65-2a6a-479a-b585-cca589920e85",
   "metadata": {},
   "outputs": [],
   "source": [
    "def random_outliers( df, percentual, features, peso, seed):\n",
    "    np.random.seed(seed)\n",
    "    random_index = np.random.randint(1,df.shape[0], int(df.shape[0]*percentual))\n",
    "    df.loc[random_index,features] = df.loc[random_index,features]*peso\n",
    "    \n",
    "    return df"
   ]
  },
  {
   "cell_type": "code",
   "execution_count": 14,
   "id": "f218ad7e-604c-473e-a7ab-84c7eef8a30b",
   "metadata": {
    "tags": []
   },
   "outputs": [],
   "source": [
    "X_train3 = x_train.copy()"
   ]
  },
  {
   "cell_type": "code",
   "execution_count": 15,
   "id": "4dd83b64-82e8-479f-92ac-95b630da1e1c",
   "metadata": {
    "tags": []
   },
   "outputs": [],
   "source": [
    "percentual = 0.05\n",
    "features = ['idade', 'divida_atual', 'renda_anual']\n",
    "peso = 10\n",
    "seed = 25"
   ]
  },
  {
   "cell_type": "code",
   "execution_count": 16,
   "id": "98dea3fe-c123-4963-a2f9-cae60c1e02fa",
   "metadata": {
    "tags": []
   },
   "outputs": [],
   "source": [
    "X_train3 = random_outliers( X_train3, percentual, features, peso, seed)"
   ]
  },
  {
   "cell_type": "code",
   "execution_count": 17,
   "id": "2277b1b7-3151-4346-a649-e7e7c14dfae2",
   "metadata": {
    "tags": []
   },
   "outputs": [],
   "source": [
    "y_pred3 = lr_model.predict( X_train3 )"
   ]
  },
  {
   "cell_type": "code",
   "execution_count": 18,
   "id": "256c9435-0eee-466a-a3ba-0191e3412376",
   "metadata": {
    "tags": []
   },
   "outputs": [
    {
     "data": {
      "text/html": [
       "<div>\n",
       "<style scoped>\n",
       "    .dataframe tbody tr th:only-of-type {\n",
       "        vertical-align: middle;\n",
       "    }\n",
       "\n",
       "    .dataframe tbody tr th {\n",
       "        vertical-align: top;\n",
       "    }\n",
       "\n",
       "    .dataframe thead th {\n",
       "        text-align: right;\n",
       "    }\n",
       "</style>\n",
       "<table border=\"1\" class=\"dataframe\">\n",
       "  <thead>\n",
       "    <tr style=\"text-align: right;\">\n",
       "      <th></th>\n",
       "      <th>outliers</th>\n",
       "      <th>r2</th>\n",
       "      <th>mse</th>\n",
       "      <th>rmse</th>\n",
       "    </tr>\n",
       "  </thead>\n",
       "  <tbody>\n",
       "    <tr>\n",
       "      <th>0</th>\n",
       "      <td>0.05</td>\n",
       "      <td>-0.21</td>\n",
       "      <td>57383.44</td>\n",
       "      <td>239.55</td>\n",
       "    </tr>\n",
       "  </tbody>\n",
       "</table>\n",
       "</div>"
      ],
      "text/plain": [
       "   outliers    r2      mse   rmse\n",
       "0      0.05 -0.21 57383.44 239.55"
      ]
     },
     "execution_count": 18,
     "metadata": {},
     "output_type": "execute_result"
    }
   ],
   "source": [
    "regression_metrics(y_train, y_pred3, percentual)"
   ]
  },
  {
   "cell_type": "markdown",
   "id": "6b1d8dc6-f646-4f89-ac57-ac54b23fc675",
   "metadata": {
    "tags": []
   },
   "source": [
    "## 5. Faça a seguinte bateria de testes"
   ]
  },
  {
   "cell_type": "markdown",
   "id": "3e417b8a-e0cc-41cf-a636-5920cc44ff64",
   "metadata": {},
   "source": [
    "### 5.1 Refaça o exercícios 4 com as seguintes quantidade de outliers: 2%, 5%, 10%, 20% e 30%."
   ]
  },
  {
   "cell_type": "markdown",
   "id": "7e801bb8-143a-45cd-90fd-f93eed30d1a5",
   "metadata": {
    "tags": []
   },
   "source": [
    "#### Função criada para criar um dataframe com as métricas por percentual de outlier"
   ]
  },
  {
   "cell_type": "code",
   "execution_count": 19,
   "id": "5f73ac87-5aa4-4f27-88e7-fb57c3f55f41",
   "metadata": {
    "tags": []
   },
   "outputs": [],
   "source": [
    "def metricas_outliers(df, percentuais, features, peso, seed):\n",
    "    result = pd.DataFrame({'outliers': [], 'r2': [], 'mse': [], 'rmse': []})\n",
    "    for i in percentuais:\n",
    "        data = df.copy()\n",
    "        data = random_outliers( data, i, features, peso, seed)\n",
    "        y_pred = lr_model.predict( data )\n",
    "        \n",
    "        metrics = regression_metrics(y_train, y_pred, i)\n",
    "        \n",
    "        result = pd.concat([result, metrics], axis=0)\n",
    "    \n",
    "    return np.round(result,2)\n",
    "    "
   ]
  },
  {
   "cell_type": "code",
   "execution_count": 20,
   "id": "28036f58-f41d-4d31-8771-899fac40a0d2",
   "metadata": {
    "tags": []
   },
   "outputs": [],
   "source": [
    "data = x_train.copy()\n",
    "percentuais = [0.02, 0.05, 0.1, 0.2, 0.3]\n",
    "features = ['idade', 'divida_atual', 'renda_anual']\n",
    "peso = 10\n",
    "seed = 25"
   ]
  },
  {
   "cell_type": "code",
   "execution_count": 21,
   "id": "928a4cf8-2966-464c-9bc9-6624fda985cd",
   "metadata": {
    "tags": []
   },
   "outputs": [
    {
     "data": {
      "text/html": [
       "<div>\n",
       "<style scoped>\n",
       "    .dataframe tbody tr th:only-of-type {\n",
       "        vertical-align: middle;\n",
       "    }\n",
       "\n",
       "    .dataframe tbody tr th {\n",
       "        vertical-align: top;\n",
       "    }\n",
       "\n",
       "    .dataframe thead th {\n",
       "        text-align: right;\n",
       "    }\n",
       "</style>\n",
       "<table border=\"1\" class=\"dataframe\">\n",
       "  <thead>\n",
       "    <tr style=\"text-align: right;\">\n",
       "      <th></th>\n",
       "      <th>outliers</th>\n",
       "      <th>r2</th>\n",
       "      <th>mse</th>\n",
       "      <th>rmse</th>\n",
       "    </tr>\n",
       "  </thead>\n",
       "  <tbody>\n",
       "    <tr>\n",
       "      <th>0</th>\n",
       "      <td>0.02</td>\n",
       "      <td>0.01</td>\n",
       "      <td>46824.20</td>\n",
       "      <td>216.39</td>\n",
       "    </tr>\n",
       "    <tr>\n",
       "      <th>0</th>\n",
       "      <td>0.05</td>\n",
       "      <td>-0.21</td>\n",
       "      <td>57383.44</td>\n",
       "      <td>239.55</td>\n",
       "    </tr>\n",
       "    <tr>\n",
       "      <th>0</th>\n",
       "      <td>0.10</td>\n",
       "      <td>-0.65</td>\n",
       "      <td>78260.97</td>\n",
       "      <td>279.75</td>\n",
       "    </tr>\n",
       "    <tr>\n",
       "      <th>0</th>\n",
       "      <td>0.20</td>\n",
       "      <td>-1.48</td>\n",
       "      <td>117463.42</td>\n",
       "      <td>342.73</td>\n",
       "    </tr>\n",
       "    <tr>\n",
       "      <th>0</th>\n",
       "      <td>0.30</td>\n",
       "      <td>-2.25</td>\n",
       "      <td>154104.91</td>\n",
       "      <td>392.56</td>\n",
       "    </tr>\n",
       "  </tbody>\n",
       "</table>\n",
       "</div>"
      ],
      "text/plain": [
       "   outliers    r2       mse   rmse\n",
       "0      0.02  0.01  46824.20 216.39\n",
       "0      0.05 -0.21  57383.44 239.55\n",
       "0      0.10 -0.65  78260.97 279.75\n",
       "0      0.20 -1.48 117463.42 342.73\n",
       "0      0.30 -2.25 154104.91 392.56"
      ]
     },
     "execution_count": 21,
     "metadata": {},
     "output_type": "execute_result"
    }
   ],
   "source": [
    "metricas = metricas_outliers( data, percentuais, features, peso, seed)\n",
    "metricas"
   ]
  },
  {
   "cell_type": "markdown",
   "id": "06431c32-c3b9-47cc-8a83-ec66208a66bb",
   "metadata": {
    "tags": []
   },
   "source": [
    "### 5.3 Crie um tabela de comparação entre os resultados das 3 métricas ( r2, MSE e RMSE ) para cada uma das proporções de outliers ( 2%, 5%, 10%, 20% e 30% ) e responda as seguintes perguntas:\n",
    "        "
   ]
  },
  {
   "cell_type": "code",
   "execution_count": 22,
   "id": "780b2190-159e-4810-ba4d-8f7948e42481",
   "metadata": {},
   "outputs": [
    {
     "data": {
      "text/html": [
       "<div>\n",
       "<style scoped>\n",
       "    .dataframe tbody tr th:only-of-type {\n",
       "        vertical-align: middle;\n",
       "    }\n",
       "\n",
       "    .dataframe tbody tr th {\n",
       "        vertical-align: top;\n",
       "    }\n",
       "\n",
       "    .dataframe thead th {\n",
       "        text-align: right;\n",
       "    }\n",
       "</style>\n",
       "<table border=\"1\" class=\"dataframe\">\n",
       "  <thead>\n",
       "    <tr style=\"text-align: right;\">\n",
       "      <th></th>\n",
       "      <th>outliers</th>\n",
       "      <th>r2</th>\n",
       "      <th>mse</th>\n",
       "      <th>rmse</th>\n",
       "    </tr>\n",
       "  </thead>\n",
       "  <tbody>\n",
       "    <tr>\n",
       "      <th>0</th>\n",
       "      <td>0.02</td>\n",
       "      <td>0.01</td>\n",
       "      <td>46824.20</td>\n",
       "      <td>216.39</td>\n",
       "    </tr>\n",
       "    <tr>\n",
       "      <th>0</th>\n",
       "      <td>0.05</td>\n",
       "      <td>-0.21</td>\n",
       "      <td>57383.44</td>\n",
       "      <td>239.55</td>\n",
       "    </tr>\n",
       "    <tr>\n",
       "      <th>0</th>\n",
       "      <td>0.10</td>\n",
       "      <td>-0.65</td>\n",
       "      <td>78260.97</td>\n",
       "      <td>279.75</td>\n",
       "    </tr>\n",
       "    <tr>\n",
       "      <th>0</th>\n",
       "      <td>0.20</td>\n",
       "      <td>-1.48</td>\n",
       "      <td>117463.42</td>\n",
       "      <td>342.73</td>\n",
       "    </tr>\n",
       "    <tr>\n",
       "      <th>0</th>\n",
       "      <td>0.30</td>\n",
       "      <td>-2.25</td>\n",
       "      <td>154104.91</td>\n",
       "      <td>392.56</td>\n",
       "    </tr>\n",
       "  </tbody>\n",
       "</table>\n",
       "</div>"
      ],
      "text/plain": [
       "   outliers    r2       mse   rmse\n",
       "0      0.02  0.01  46824.20 216.39\n",
       "0      0.05 -0.21  57383.44 239.55\n",
       "0      0.10 -0.65  78260.97 279.75\n",
       "0      0.20 -1.48 117463.42 342.73\n",
       "0      0.30 -2.25 154104.91 392.56"
      ]
     },
     "execution_count": 22,
     "metadata": {},
     "output_type": "execute_result"
    }
   ],
   "source": [
    "metricas"
   ]
  },
  {
   "cell_type": "markdown",
   "id": "f6cf3570-377d-4424-a6cd-48c1f1a6d17c",
   "metadata": {
    "tags": []
   },
   "source": [
    "###  <span style='color:orange'> Esse grafico é apenas para ajudar na intepletação </span>"
   ]
  },
  {
   "cell_type": "code",
   "execution_count": 23,
   "id": "6f80189d-b15f-4feb-b7cc-64b6fa885da4",
   "metadata": {},
   "outputs": [
    {
     "data": {
      "image/png": "[encoded data removed]",
      "text/plain": [
       "<Figure size 2000x1000 with 3 Axes>"
      ]
     },
     "metadata": {},
     "output_type": "display_data"
    }
   ],
   "source": [
    "# Create figure and axis #1\n",
    "fig, ax1 = plt.subplots()\n",
    "# plot line chart on axis #1\n",
    "p1, = ax1.plot(metricas.outliers, metricas.r2) \n",
    "ax1.set_ylabel('r2')\n",
    "ax1.legend(['r2'], loc=\"upper left\")\n",
    "ax1.yaxis.label.set_color(p1.get_color())\n",
    "ax1.yaxis.label.set_fontsize(14)\n",
    "ax1.tick_params(axis='y', colors=p1.get_color(), labelsize=14)\n",
    "# set up the 2nd axis\n",
    "ax2 = ax1.twinx() \n",
    "# plot bar chart on axis #2\n",
    "p2, = ax2.plot(metricas.outliers, metricas.mse, color='orange')\n",
    "# ax2.grid(False) # turn off grid #2\n",
    "ax2.set_ylabel('mse')\n",
    "ax2.legend(['mse'], loc=\"upper center\")\n",
    "ax2.yaxis.label.set_color(p2.get_color())\n",
    "ax2.yaxis.label.set_fontsize(14)\n",
    "ax2.tick_params(axis='y', colors=p2.get_color(), labelsize=14)\n",
    "# set up the 3rd axis\n",
    "ax3 = ax1.twinx()\n",
    "# Offset the right spine of ax3.  The ticks and label have already been placed on the right by twinx above.\n",
    "ax3.spines.right.set_position((\"axes\", 1.15))\n",
    "# Plot line chart on axis #3\n",
    "p3, = ax3.plot(metricas.outliers, metricas.rmse, color='red')\n",
    "ax3.set_ylabel('rmse')\n",
    "ax3.legend(['rmse'], loc=\"upper right\")\n",
    "ax3.yaxis.label.set_color(p3.get_color())\n",
    "ax3.yaxis.label.set_fontsize(14)\n",
    "ax3.tick_params(axis='y', colors=p3.get_color(), labelsize=14)\n",
    "plt.show()"
   ]
  },
  {
   "cell_type": "markdown",
   "id": "056dbfeb-1123-43b2-8a67-69010685de06",
   "metadata": {},
   "source": [
    "#### - 5.4.1. Como as métricas R2, MSE e RMSE se comportam com a variação outliers no conjunto de dados?\n",
    "        \n",
    "        "
   ]
  },
  {
   "cell_type": "markdown",
   "id": "d037e83a-e10d-4703-b630-816fb8f6c796",
   "metadata": {},
   "source": [
    "#### <span style='color:red'> - Esta pergunta é de cunho interpretativo de cada aluno. </span>"
   ]
  },
  {
   "cell_type": "markdown",
   "id": "f09abd96-244a-47d0-96ac-c6fca2d34fe1",
   "metadata": {},
   "source": [
    "#### - 5.4.2. Observando as respostas anteriores, quais são as ações que aumentam ou diminuem as métricas de “R2”, “MSE” ou “RMSE” de um problema de negócio?\n",
    "        "
   ]
  },
  {
   "cell_type": "markdown",
   "id": "a32691b2-cbf3-4285-8d8a-03ac2d6c711a",
   "metadata": {},
   "source": [
    "#### <span style='color:red'> - Esta pergunta é de cunho interpretativo de cada aluno. </span>"
   ]
  },
  {
   "cell_type": "markdown",
   "id": "25746aa2-bb36-4f77-b8b7-1cb485f6ee91",
   "metadata": {},
   "source": [
    "### 5.4 Escreva um artigo para blog da Comunidade DS, descrevendo o seu aprendizado em relação ao comportamento das métricas, a partir dos seus experimentos com outliers presente nos dados."
   ]
  },
  {
   "cell_type": "markdown",
   "id": "ad8cbddf-6d56-4ecc-a5d4-04cf8ad2174b",
   "metadata": {
    "tags": []
   },
   "source": [
    "#### <span style='color:red'> - Este exercicio é de cunho de cada aluno. </span>"
   ]
  }
 ],
 "metadata": {
  "kernelspec": {
   "display_name": "Python 3 (ipykernel)",
   "language": "python",
   "name": "python3"
  },
  "language_info": {
   "codemirror_mode": {
    "name": "ipython",
    "version": 3
   },
   "file_extension": ".py",
   "mimetype": "text/x-python",
   "name": "python",
   "nbconvert_exporter": "python",
   "pygments_lexer": "ipython3",
   "version": "3.10.0"
  }
 },
 "nbformat": 4,
 "nbformat_minor": 5
}
