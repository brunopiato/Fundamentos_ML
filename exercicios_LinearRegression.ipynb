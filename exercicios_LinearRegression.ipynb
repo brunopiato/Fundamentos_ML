{
 "cells": [
  {
   "attachments": {},
   "cell_type": "markdown",
   "metadata": {},
   "source": [
    "## Perguntas\n",
    "\n",
    "- 1. Rafaça o código de treinamento da aula 19: “Linear Regression - Prática” no seu computador usando o Jupyter Notebook ou o Google Colabs e compute o R2, o MSE e o RMSE\n",
    "- 2. Qual o problema principal de usar a métrica MSE? Escreve um exemplo hipotético, no qual o problema acontece.\n",
    "- 3. Explique com um pequeno texto ilustrando o benefício de usar a métrica RMSE.\n",
    "- 4. Modifique 5% das linhas de algumas colunas, adicionando outliers e refaça as métricas de R2, MSE e RMSE. \n",
    "- 5. Faça a seguinte bateria de testes\n",
    "  - 5.1 Refaça o exercícios 4 com as seguintes quantidade de outliers: 2%, 5%, 10%, 20% e 30%.\n",
    "  - 5.2 Crie um tabela de comparação entre os resultados das 3 métricas ( r2, MSE e RMSE ) para cada uma das proporções de outliers ( 2%, 5%, 10%, 20% e 30% ) e responda as seguintes perguntas:\n",
    "    - 5.2.1.  Como as métricas R2, MSE e RMSE se comportam com a variação outliers no conjunto de dados?\n",
    "    - 5.2.2.  Observando as respostas anteriores, quais são as ações que aumentam ou diminuem as métricas de “R2”, “MSE” ou “RMSE” de um problema de negócio?\n",
    "  - 5.3 Escreva um artigo para blog da Comunidade DS, descrevendo o seu aprendizado em relação ao comportamento das métricas, a partir dos seus experimentos com outliers presente nos dados."
   ]
  },
  {
   "attachments": {},
   "cell_type": "markdown",
   "metadata": {},
   "source": [
    "- 1. Rafaça o código de treinamento da aula 19: “Linear Regression - Prática” no seu computador usando o Jupyter Notebook ou o Google Colabs e compute o R2, o MSE e o RMSE"
   ]
  },
  {
   "cell_type": "code",
   "execution_count": 1,
   "metadata": {},
   "outputs": [],
   "source": [
    "# Importação das bibliotecas \n",
    "\n",
    "import pandas as pd \n",
    "import numpy as np \n",
    "from sklearn.linear_model import LinearRegression"
   ]
  },
  {
   "cell_type": "code",
   "execution_count": 3,
   "metadata": {},
   "outputs": [
    {
     "data": {
      "text/html": [
       "<div>\n",
       "<style scoped>\n",
       "    .dataframe tbody tr th:only-of-type {\n",
       "        vertical-align: middle;\n",
       "    }\n",
       "\n",
       "    .dataframe tbody tr th {\n",
       "        vertical-align: top;\n",
       "    }\n",
       "\n",
       "    .dataframe thead th {\n",
       "        text-align: right;\n",
       "    }\n",
       "</style>\n",
       "<table border=\"1\" class=\"dataframe\">\n",
       "  <thead>\n",
       "    <tr style=\"text-align: right;\">\n",
       "      <th></th>\n",
       "      <th>id_cliente</th>\n",
       "      <th>idade</th>\n",
       "      <th>saldo_atual</th>\n",
       "      <th>divida_atual</th>\n",
       "      <th>renda_anual</th>\n",
       "      <th>valor_em_investimentos</th>\n",
       "      <th>taxa_utilizacao_credito</th>\n",
       "      <th>num_emprestimos</th>\n",
       "      <th>num_contas_bancarias</th>\n",
       "      <th>num_cartoes_credito</th>\n",
       "      <th>dias_atraso_dt_venc</th>\n",
       "      <th>num_pgtos_atrasados</th>\n",
       "      <th>num_consultas_credito</th>\n",
       "      <th>taxa_juros</th>\n",
       "      <th>investe_exterior</th>\n",
       "      <th>pessoa_polit_exp</th>\n",
       "      <th>limite_adicional</th>\n",
       "    </tr>\n",
       "  </thead>\n",
       "  <tbody>\n",
       "    <tr>\n",
       "      <th>0</th>\n",
       "      <td>1767</td>\n",
       "      <td>21</td>\n",
       "      <td>278.172008</td>\n",
       "      <td>2577.05</td>\n",
       "      <td>24196.89636</td>\n",
       "      <td>104.306544</td>\n",
       "      <td>31.038763</td>\n",
       "      <td>6</td>\n",
       "      <td>5</td>\n",
       "      <td>7</td>\n",
       "      <td>21</td>\n",
       "      <td>14</td>\n",
       "      <td>9</td>\n",
       "      <td>15</td>\n",
       "      <td>Não</td>\n",
       "      <td>Não</td>\n",
       "      <td>Negar</td>\n",
       "    </tr>\n",
       "    <tr>\n",
       "      <th>1</th>\n",
       "      <td>11920</td>\n",
       "      <td>40</td>\n",
       "      <td>268.874152</td>\n",
       "      <td>2465.39</td>\n",
       "      <td>19227.37796</td>\n",
       "      <td>69.858778</td>\n",
       "      <td>36.917093</td>\n",
       "      <td>5</td>\n",
       "      <td>8</td>\n",
       "      <td>5</td>\n",
       "      <td>40</td>\n",
       "      <td>23</td>\n",
       "      <td>10</td>\n",
       "      <td>18</td>\n",
       "      <td>Não</td>\n",
       "      <td>Não</td>\n",
       "      <td>Negar</td>\n",
       "    </tr>\n",
       "    <tr>\n",
       "      <th>2</th>\n",
       "      <td>8910</td>\n",
       "      <td>36</td>\n",
       "      <td>446.643127</td>\n",
       "      <td>1055.29</td>\n",
       "      <td>42822.28223</td>\n",
       "      <td>134.201478</td>\n",
       "      <td>34.561714</td>\n",
       "      <td>0</td>\n",
       "      <td>3</td>\n",
       "      <td>6</td>\n",
       "      <td>26</td>\n",
       "      <td>13</td>\n",
       "      <td>3</td>\n",
       "      <td>15</td>\n",
       "      <td>Sim</td>\n",
       "      <td>Não</td>\n",
       "      <td>Negar</td>\n",
       "    </tr>\n",
       "    <tr>\n",
       "      <th>3</th>\n",
       "      <td>4964</td>\n",
       "      <td>58</td>\n",
       "      <td>321.141267</td>\n",
       "      <td>703.05</td>\n",
       "      <td>51786.82600</td>\n",
       "      <td>297.350067</td>\n",
       "      <td>31.493561</td>\n",
       "      <td>0</td>\n",
       "      <td>3</td>\n",
       "      <td>7</td>\n",
       "      <td>12</td>\n",
       "      <td>7</td>\n",
       "      <td>2</td>\n",
       "      <td>1</td>\n",
       "      <td>Sim</td>\n",
       "      <td>Não</td>\n",
       "      <td>Negar</td>\n",
       "    </tr>\n",
       "    <tr>\n",
       "      <th>4</th>\n",
       "      <td>10100</td>\n",
       "      <td>35</td>\n",
       "      <td>428.716114</td>\n",
       "      <td>891.29</td>\n",
       "      <td>44626.85346</td>\n",
       "      <td>134.201478</td>\n",
       "      <td>28.028887</td>\n",
       "      <td>2</td>\n",
       "      <td>8</td>\n",
       "      <td>7</td>\n",
       "      <td>24</td>\n",
       "      <td>10</td>\n",
       "      <td>8</td>\n",
       "      <td>20</td>\n",
       "      <td>Sim</td>\n",
       "      <td>Não</td>\n",
       "      <td>Negar</td>\n",
       "    </tr>\n",
       "  </tbody>\n",
       "</table>\n",
       "</div>"
      ],
      "text/plain": [
       "   id_cliente  idade  saldo_atual  divida_atual  renda_anual  \\\n",
       "0        1767     21   278.172008       2577.05  24196.89636   \n",
       "1       11920     40   268.874152       2465.39  19227.37796   \n",
       "2        8910     36   446.643127       1055.29  42822.28223   \n",
       "3        4964     58   321.141267        703.05  51786.82600   \n",
       "4       10100     35   428.716114        891.29  44626.85346   \n",
       "\n",
       "   valor_em_investimentos  taxa_utilizacao_credito  num_emprestimos  \\\n",
       "0              104.306544                31.038763                6   \n",
       "1               69.858778                36.917093                5   \n",
       "2              134.201478                34.561714                0   \n",
       "3              297.350067                31.493561                0   \n",
       "4              134.201478                28.028887                2   \n",
       "\n",
       "   num_contas_bancarias  num_cartoes_credito  dias_atraso_dt_venc  \\\n",
       "0                     5                    7                   21   \n",
       "1                     8                    5                   40   \n",
       "2                     3                    6                   26   \n",
       "3                     3                    7                   12   \n",
       "4                     8                    7                   24   \n",
       "\n",
       "   num_pgtos_atrasados  num_consultas_credito  taxa_juros investe_exterior  \\\n",
       "0                   14                      9          15              Não   \n",
       "1                   23                     10          18              Não   \n",
       "2                   13                      3          15              Sim   \n",
       "3                    7                      2           1              Sim   \n",
       "4                   10                      8          20              Sim   \n",
       "\n",
       "  pessoa_polit_exp limite_adicional  \n",
       "0              Não            Negar  \n",
       "1              Não            Negar  \n",
       "2              Não            Negar  \n",
       "3              Não            Negar  \n",
       "4              Não            Negar  "
      ]
     },
     "execution_count": 3,
     "metadata": {},
     "output_type": "execute_result"
    }
   ],
   "source": [
    "# Importação dos dados\n",
    "\n",
    "path = \"/home/bruno/repos/Fundamentos_ML/data/train.csv\"\n",
    "df = pd.read_csv(path, low_memory=False)\n",
    "df.head()"
   ]
  },
  {
   "cell_type": "code",
   "execution_count": 4,
   "metadata": {},
   "outputs": [],
   "source": [
    "# Seleção de Features \n",
    "\n",
    "features = ['idade', 'divida_atual', 'renda_anual', 'valor_em_investimentos',  \n",
    "            'taxa_utilizacao_credito', 'num_emprestimos', 'num_contas_bancarias', 'num_cartoes_credito',  \n",
    "            'dias_atraso_dt_venc', 'num_pgtos_atrasados', 'num_consultas_credito', 'taxa_juros']\n",
    "\n",
    "# Variável alvo \n",
    "label = ['saldo_atual']"
   ]
  },
  {
   "cell_type": "code",
   "execution_count": 5,
   "metadata": {},
   "outputs": [],
   "source": [
    "# Dados de treinamento e teste \n",
    "\n",
    "x_train = df.loc[:, features] \n",
    "y_train = df.loc[:, label]"
   ]
  },
  {
   "cell_type": "code",
   "execution_count": 6,
   "metadata": {},
   "outputs": [
    {
     "data": {
      "text/html": [
       "<style>#sk-container-id-1 {color: black;background-color: white;}#sk-container-id-1 pre{padding: 0;}#sk-container-id-1 div.sk-toggleable {background-color: white;}#sk-container-id-1 label.sk-toggleable__label {cursor: pointer;display: block;width: 100%;margin-bottom: 0;padding: 0.3em;box-sizing: border-box;text-align: center;}#sk-container-id-1 label.sk-toggleable__label-arrow:before {content: \"▸\";float: left;margin-right: 0.25em;color: #696969;}#sk-container-id-1 label.sk-toggleable__label-arrow:hover:before {color: black;}#sk-container-id-1 div.sk-estimator:hover label.sk-toggleable__label-arrow:before {color: black;}#sk-container-id-1 div.sk-toggleable__content {max-height: 0;max-width: 0;overflow: hidden;text-align: left;background-color: #f0f8ff;}#sk-container-id-1 div.sk-toggleable__content pre {margin: 0.2em;color: black;border-radius: 0.25em;background-color: #f0f8ff;}#sk-container-id-1 input.sk-toggleable__control:checked~div.sk-toggleable__content {max-height: 200px;max-width: 100%;overflow: auto;}#sk-container-id-1 input.sk-toggleable__control:checked~label.sk-toggleable__label-arrow:before {content: \"▾\";}#sk-container-id-1 div.sk-estimator input.sk-toggleable__control:checked~label.sk-toggleable__label {background-color: #d4ebff;}#sk-container-id-1 div.sk-label input.sk-toggleable__control:checked~label.sk-toggleable__label {background-color: #d4ebff;}#sk-container-id-1 input.sk-hidden--visually {border: 0;clip: rect(1px 1px 1px 1px);clip: rect(1px, 1px, 1px, 1px);height: 1px;margin: -1px;overflow: hidden;padding: 0;position: absolute;width: 1px;}#sk-container-id-1 div.sk-estimator {font-family: monospace;background-color: #f0f8ff;border: 1px dotted black;border-radius: 0.25em;box-sizing: border-box;margin-bottom: 0.5em;}#sk-container-id-1 div.sk-estimator:hover {background-color: #d4ebff;}#sk-container-id-1 div.sk-parallel-item::after {content: \"\";width: 100%;border-bottom: 1px solid gray;flex-grow: 1;}#sk-container-id-1 div.sk-label:hover label.sk-toggleable__label {background-color: #d4ebff;}#sk-container-id-1 div.sk-serial::before {content: \"\";position: absolute;border-left: 1px solid gray;box-sizing: border-box;top: 0;bottom: 0;left: 50%;z-index: 0;}#sk-container-id-1 div.sk-serial {display: flex;flex-direction: column;align-items: center;background-color: white;padding-right: 0.2em;padding-left: 0.2em;position: relative;}#sk-container-id-1 div.sk-item {position: relative;z-index: 1;}#sk-container-id-1 div.sk-parallel {display: flex;align-items: stretch;justify-content: center;background-color: white;position: relative;}#sk-container-id-1 div.sk-item::before, #sk-container-id-1 div.sk-parallel-item::before {content: \"\";position: absolute;border-left: 1px solid gray;box-sizing: border-box;top: 0;bottom: 0;left: 50%;z-index: -1;}#sk-container-id-1 div.sk-parallel-item {display: flex;flex-direction: column;z-index: 1;position: relative;background-color: white;}#sk-container-id-1 div.sk-parallel-item:first-child::after {align-self: flex-end;width: 50%;}#sk-container-id-1 div.sk-parallel-item:last-child::after {align-self: flex-start;width: 50%;}#sk-container-id-1 div.sk-parallel-item:only-child::after {width: 0;}#sk-container-id-1 div.sk-dashed-wrapped {border: 1px dashed gray;margin: 0 0.4em 0.5em 0.4em;box-sizing: border-box;padding-bottom: 0.4em;background-color: white;}#sk-container-id-1 div.sk-label label {font-family: monospace;font-weight: bold;display: inline-block;line-height: 1.2em;}#sk-container-id-1 div.sk-label-container {text-align: center;}#sk-container-id-1 div.sk-container {/* jupyter's `normalize.less` sets `[hidden] { display: none; }` but bootstrap.min.css set `[hidden] { display: none !important; }` so we also need the `!important` here to be able to override the default hidden behavior on the sphinx rendered scikit-learn.org. See: https://github.com/scikit-learn/scikit-learn/issues/21755 */display: inline-block !important;position: relative;}#sk-container-id-1 div.sk-text-repr-fallback {display: none;}</style><div id=\"sk-container-id-1\" class=\"sk-top-container\"><div class=\"sk-text-repr-fallback\"><pre>LinearRegression()</pre><b>In a Jupyter environment, please rerun this cell to show the HTML representation or trust the notebook. <br />On GitHub, the HTML representation is unable to render, please try loading this page with nbviewer.org.</b></div><div class=\"sk-container\" hidden><div class=\"sk-item\"><div class=\"sk-estimator sk-toggleable\"><input class=\"sk-toggleable__control sk-hidden--visually\" id=\"sk-estimator-id-1\" type=\"checkbox\" checked><label for=\"sk-estimator-id-1\" class=\"sk-toggleable__label sk-toggleable__label-arrow\">LinearRegression</label><div class=\"sk-toggleable__content\"><pre>LinearRegression()</pre></div></div></div></div></div>"
      ],
      "text/plain": [
       "LinearRegression()"
      ]
     },
     "execution_count": 6,
     "metadata": {},
     "output_type": "execute_result"
    }
   ],
   "source": [
    "# Treinamento do algoritmo \n",
    "\n",
    "lr_model = LinearRegression() \n",
    "lr_model.fit( x_train, y_train )"
   ]
  },
  {
   "cell_type": "code",
   "execution_count": 7,
   "metadata": {},
   "outputs": [],
   "source": [
    "# Previsão do algoritmo \n",
    "\n",
    "y_pred = lr_model.predict( x_train )"
   ]
  },
  {
   "cell_type": "code",
   "execution_count": 10,
   "metadata": {},
   "outputs": [
    {
     "data": {
      "text/html": [
       "<div>\n",
       "<style scoped>\n",
       "    .dataframe tbody tr th:only-of-type {\n",
       "        vertical-align: middle;\n",
       "    }\n",
       "\n",
       "    .dataframe tbody tr th {\n",
       "        vertical-align: top;\n",
       "    }\n",
       "\n",
       "    .dataframe thead th {\n",
       "        text-align: right;\n",
       "    }\n",
       "</style>\n",
       "<table border=\"1\" class=\"dataframe\">\n",
       "  <thead>\n",
       "    <tr style=\"text-align: right;\">\n",
       "      <th></th>\n",
       "      <th>id_cliente</th>\n",
       "      <th>saldo_atual</th>\n",
       "      <th>predicted</th>\n",
       "    </tr>\n",
       "  </thead>\n",
       "  <tbody>\n",
       "    <tr>\n",
       "      <th>0</th>\n",
       "      <td>1767</td>\n",
       "      <td>278.172008</td>\n",
       "      <td>346.669549</td>\n",
       "    </tr>\n",
       "    <tr>\n",
       "      <th>1</th>\n",
       "      <td>11920</td>\n",
       "      <td>268.874152</td>\n",
       "      <td>367.840277</td>\n",
       "    </tr>\n",
       "    <tr>\n",
       "      <th>2</th>\n",
       "      <td>8910</td>\n",
       "      <td>446.643127</td>\n",
       "      <td>431.468979</td>\n",
       "    </tr>\n",
       "    <tr>\n",
       "      <th>3</th>\n",
       "      <td>4964</td>\n",
       "      <td>321.141267</td>\n",
       "      <td>445.506463</td>\n",
       "    </tr>\n",
       "    <tr>\n",
       "      <th>4</th>\n",
       "      <td>10100</td>\n",
       "      <td>428.716114</td>\n",
       "      <td>378.271169</td>\n",
       "    </tr>\n",
       "  </tbody>\n",
       "</table>\n",
       "</div>"
      ],
      "text/plain": [
       "   id_cliente  saldo_atual   predicted\n",
       "0        1767   278.172008  346.669549\n",
       "1       11920   268.874152  367.840277\n",
       "2        8910   446.643127  431.468979\n",
       "3        4964   321.141267  445.506463\n",
       "4       10100   428.716114  378.271169"
      ]
     },
     "execution_count": 10,
     "metadata": {},
     "output_type": "execute_result"
    }
   ],
   "source": [
    "# Resultado final em um dataframe derivado\n",
    "\n",
    "df1 = df.loc[:, ['id_cliente', 'saldo_atual']] \n",
    "df1['predicted'] = y_pred \n",
    "df1.head()"
   ]
  },
  {
   "attachments": {},
   "cell_type": "markdown",
   "metadata": {},
   "source": [
    "- 2. Qual o problema principal de usar a métrica MSE? Escreve um exemplo hipotético, no qual o problema acontece."
   ]
  },
  {
   "attachments": {},
   "cell_type": "markdown",
   "metadata": {},
   "source": [
    "> A métrica MSE (_Mean Squared Error_) tem dois problemas principais em seu uso:\n",
    "> 1. Como os erros são elevados ao quadrado para remover o efeito dos sinais, os outliers acabam também sendo elevados ao quadrado e, portanto, seu efeito é quadrático sobre o erro e a média\n",
    "> 2. Além disso, o erro médio está em escala quadrática em relação aos dados, já que está elevado ao quadrado, de modo que acaba ficando difícil comparar o valor do erro médio com os dados"
   ]
  },
  {
   "attachments": {},
   "cell_type": "markdown",
   "metadata": {},
   "source": [
    "- 3. Explique com um pequeno texto ilustrando o benefício de usar a métrica RMSE."
   ]
  },
  {
   "cell_type": "markdown",
   "metadata": {},
   "source": []
  },
  {
   "attachments": {},
   "cell_type": "markdown",
   "metadata": {},
   "source": [
    "- 4. Modifique 5% das linhas de algumas colunas, adicionando outliers e refaça as métricas de R2, MSE e RMSE. "
   ]
  },
  {
   "cell_type": "code",
   "execution_count": null,
   "metadata": {},
   "outputs": [],
   "source": []
  },
  {
   "attachments": {},
   "cell_type": "markdown",
   "metadata": {},
   "source": [
    "- 5.1 Refaça o exercícios 4 com as seguintes quantidade de outliers: 2%, 5%, 10%, 20% e 30%."
   ]
  },
  {
   "cell_type": "code",
   "execution_count": null,
   "metadata": {},
   "outputs": [],
   "source": []
  },
  {
   "attachments": {},
   "cell_type": "markdown",
   "metadata": {},
   "source": [
    "- 5.2 Crie um tabela de comparação entre os resultados das 3 métricas ( r2, MSE e RMSE ) para cada uma das proporções de outliers ( 2%, 5%, 10%, 20% e 30% ) e responda as seguintes perguntas:"
   ]
  },
  {
   "cell_type": "code",
   "execution_count": null,
   "metadata": {},
   "outputs": [],
   "source": []
  },
  {
   "attachments": {},
   "cell_type": "markdown",
   "metadata": {},
   "source": [
    "- 5.2.1.  Como as métricas R2, MSE e RMSE se comportam com a variação outliers no conjunto de dados?"
   ]
  },
  {
   "cell_type": "code",
   "execution_count": null,
   "metadata": {},
   "outputs": [],
   "source": []
  },
  {
   "attachments": {},
   "cell_type": "markdown",
   "metadata": {},
   "source": [
    "- 5.2.2.  Observando as respostas anteriores, quais são as ações que aumentam ou diminuem as métricas de “R2”, “MSE” ou “RMSE” de um problema de negócio?"
   ]
  },
  {
   "cell_type": "code",
   "execution_count": null,
   "metadata": {},
   "outputs": [],
   "source": []
  },
  {
   "attachments": {},
   "cell_type": "markdown",
   "metadata": {},
   "source": [
    "- 5.3 Escreva um artigo para blog da Comunidade DS, descrevendo o seu aprendizado em relação ao comportamento das métricas, a partir dos seus experimentos com outliers presente nos dados."
   ]
  },
  {
   "cell_type": "code",
   "execution_count": null,
   "metadata": {},
   "outputs": [],
   "source": []
  }
 ],
 "metadata": {
  "kernelspec": {
   "display_name": "fundamentos_ML",
   "language": "python",
   "name": "python3"
  },
  "language_info": {
   "codemirror_mode": {
    "name": "ipython",
    "version": 3
   },
   "file_extension": ".py",
   "mimetype": "text/x-python",
   "name": "python",
   "nbconvert_exporter": "python",
   "pygments_lexer": "ipython3",
   "version": "3.11.2"
  },
  "orig_nbformat": 4
 },
 "nbformat": 4,
 "nbformat_minor": 2
}
