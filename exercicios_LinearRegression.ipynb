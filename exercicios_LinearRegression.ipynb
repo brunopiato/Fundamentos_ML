{
 "cells": [
  {
   "attachments": {},
   "cell_type": "markdown",
   "metadata": {},
   "source": [
    "## Perguntas\n",
    "\n",
    "- 1. Rafaça o código de treinamento da aula 19: “Linear Regression - Prática” no seu computador usando o Jupyter Notebook ou o Google Colabs e compute o R2, o MSE e o RMSE\n",
    "- 2. Qual o problema principal de usar a métrica MSE? Escreve um exemplo hipotético, no qual o problema acontece.\n",
    "- 3. Explique com um pequeno texto ilustrando o benefício de usar a métrica RMSE.\n",
    "- 4. Modifique 5% das linhas de algumas colunas, adicionando outliers e refaça as métricas de R2, MSE e RMSE. \n",
    "- 5. Faça a seguinte bateria de testes\n",
    "  - 5.1 Refaça o exercícios 4 com as seguintes quantidade de outliers: 2%, 5%, 10%, 20% e 30%.\n",
    "  - 5.2 Crie um tabela de comparação entre os resultados das 3 métricas ( r2, MSE e RMSE ) para cada uma das proporções de outliers ( 2%, 5%, 10%, 20% e 30% ) e responda as seguintes perguntas:\n",
    "    - 5.2.1.  Como as métricas R2, MSE e RMSE se comportam com a variação outliers no conjunto de dados?\n",
    "    - 5.2.2.  Observando as respostas anteriores, quais são as ações que aumentam ou diminuem as métricas de “R2”, “MSE” ou “RMSE” de um problema de negócio?\n",
    "  - 5.3 Escreva um artigo para blog da Comunidade DS, descrevendo o seu aprendizado em relação ao comportamento das métricas, a partir dos seus experimentos com outliers presente nos dados."
   ]
  },
  {
   "attachments": {},
   "cell_type": "markdown",
   "metadata": {},
   "source": [
    "- 1. Rafaça o código de treinamento da aula 19: “Linear Regression - Prática” no seu computador usando o Jupyter Notebook ou o Google Colabs e compute o R2, o MSE e o RMSE"
   ]
  },
  {
   "cell_type": "code",
   "execution_count": null,
   "metadata": {
    "vscode": {
     "languageId": "plaintext"
    }
   },
   "outputs": [],
   "source": []
  },
  {
   "attachments": {},
   "cell_type": "markdown",
   "metadata": {},
   "source": [
    "- 2. Qual o problema principal de usar a métrica MSE? Escreve um exemplo hipotético, no qual o problema acontece."
   ]
  },
  {
   "cell_type": "code",
   "execution_count": null,
   "metadata": {
    "vscode": {
     "languageId": "plaintext"
    }
   },
   "outputs": [],
   "source": []
  },
  {
   "attachments": {},
   "cell_type": "markdown",
   "metadata": {},
   "source": [
    "- 3. Explique com um pequeno texto ilustrando o benefício de usar a métrica RMSE."
   ]
  },
  {
   "cell_type": "code",
   "execution_count": null,
   "metadata": {
    "vscode": {
     "languageId": "plaintext"
    }
   },
   "outputs": [],
   "source": []
  },
  {
   "attachments": {},
   "cell_type": "markdown",
   "metadata": {},
   "source": [
    "- 4. Modifique 5% das linhas de algumas colunas, adicionando outliers e refaça as métricas de R2, MSE e RMSE. "
   ]
  },
  {
   "cell_type": "code",
   "execution_count": null,
   "metadata": {
    "vscode": {
     "languageId": "plaintext"
    }
   },
   "outputs": [],
   "source": []
  },
  {
   "attachments": {},
   "cell_type": "markdown",
   "metadata": {},
   "source": [
    "- 5.1 Refaça o exercícios 4 com as seguintes quantidade de outliers: 2%, 5%, 10%, 20% e 30%."
   ]
  },
  {
   "cell_type": "code",
   "execution_count": null,
   "metadata": {
    "vscode": {
     "languageId": "plaintext"
    }
   },
   "outputs": [],
   "source": []
  },
  {
   "attachments": {},
   "cell_type": "markdown",
   "metadata": {},
   "source": [
    "- 5.2 Crie um tabela de comparação entre os resultados das 3 métricas ( r2, MSE e RMSE ) para cada uma das proporções de outliers ( 2%, 5%, 10%, 20% e 30% ) e responda as seguintes perguntas:"
   ]
  },
  {
   "cell_type": "code",
   "execution_count": null,
   "metadata": {
    "vscode": {
     "languageId": "plaintext"
    }
   },
   "outputs": [],
   "source": []
  },
  {
   "attachments": {},
   "cell_type": "markdown",
   "metadata": {},
   "source": [
    "- 5.2.1.  Como as métricas R2, MSE e RMSE se comportam com a variação outliers no conjunto de dados?"
   ]
  },
  {
   "cell_type": "code",
   "execution_count": null,
   "metadata": {
    "vscode": {
     "languageId": "plaintext"
    }
   },
   "outputs": [],
   "source": []
  },
  {
   "attachments": {},
   "cell_type": "markdown",
   "metadata": {},
   "source": [
    "- 5.2.2.  Observando as respostas anteriores, quais são as ações que aumentam ou diminuem as métricas de “R2”, “MSE” ou “RMSE” de um problema de negócio?"
   ]
  },
  {
   "cell_type": "code",
   "execution_count": null,
   "metadata": {
    "vscode": {
     "languageId": "plaintext"
    }
   },
   "outputs": [],
   "source": []
  },
  {
   "attachments": {},
   "cell_type": "markdown",
   "metadata": {},
   "source": [
    "- 5.3 Escreva um artigo para blog da Comunidade DS, descrevendo o seu aprendizado em relação ao comportamento das métricas, a partir dos seus experimentos com outliers presente nos dados."
   ]
  },
  {
   "cell_type": "code",
   "execution_count": null,
   "metadata": {
    "vscode": {
     "languageId": "plaintext"
    }
   },
   "outputs": [],
   "source": []
  }
 ],
 "metadata": {
  "language_info": {
   "name": "python"
  },
  "orig_nbformat": 4
 },
 "nbformat": 4,
 "nbformat_minor": 2
}
